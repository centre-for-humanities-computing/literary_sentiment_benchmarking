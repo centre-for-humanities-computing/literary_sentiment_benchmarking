{
 "cells": [
  {
   "cell_type": "code",
   "execution_count": 5,
   "id": "1bc36bb7",
   "metadata": {},
   "outputs": [],
   "source": [
    "import pandas as pd\n",
    "from datasets import load_dataset\n",
    "from transformers import pipeline, AutoTokenizer\n",
    "from utils import get_sentiment\n",
    "from loguru import logger"
   ]
  },
  {
   "cell_type": "code",
   "execution_count": 12,
   "id": "c8c2055f",
   "metadata": {},
   "outputs": [
    {
     "name": "stderr",
     "output_type": "stream",
     "text": [
      "Device set to use mps:0\n"
     ]
    },
    {
     "name": "stdout",
     "output_type": "stream",
     "text": [
      "default way, label: negative ; confidence score: 0.9767931699752808\n",
      "continuous-converted values (w/ get_sentiment) -0.9767931699752808\n",
      "🔥\n"
     ]
    }
   ],
   "source": [
    "# TEST SENTIMENT MODELS OUT\n",
    "\n",
    "model_path = \"cardiffnlp/twitter-xlm-roberta-base-sentiment-multilingual\"\n",
    "# other possibilities:\n",
    "# \"cardiffnlp/xlm-roberta-base-sentiment-multilingual\"\n",
    "# \"MiMe-MeMo/MeMo-BERT-SA\"\n",
    "# \"vesteinn/danish_sentiment\"\n",
    "\n",
    "# test getting sentiment (just normally w pipeline)\n",
    "tokenizer = AutoTokenizer.from_pretrained(model_path)\n",
    "model = pipeline(\"text-classification\", model=model_path, tokenizer=tokenizer)\n",
    "\n",
    "text = \"det er forfærdeligt\"\n",
    "sent = model(text)\n",
    "\n",
    "xlm_label, xlm_score = sent[0].get(\"label\"), sent[0].get(\"score\")\n",
    "print(\"default way, label:\", xlm_label, \"; confidence score:\", xlm_score)\n",
    "\n",
    "# see if our GET_SENTIMENT function works\n",
    "# it should be the same as above, but converting the binary labels to a continuous value based on the score\n",
    "sent_converted = get_sentiment(text, model, tokenizer, model_path)\n",
    "print(\"continuous-converted values (w/ get_sentiment)\", sent_converted)\n",
    "\n",
    "if abs(sent_converted) == xlm_score or (sent_converted == 0 and \"neut\" in xlm_label.lower()):\n",
    "    print(\"🔥\")"
   ]
  },
  {
   "cell_type": "code",
   "execution_count": null,
   "id": "d240d343",
   "metadata": {},
   "outputs": [
    {
     "name": "stdout",
     "output_type": "stream",
     "text": [
      "Original: Langt ude i havet er vandet så blåt, som bladene på den dejligste kornblomst og så klart, som det reneste glas, men det er meget dybt, dybere end noget ankertov når, mange kirketårne måtte stilles oven på hinanden, for at række fra bunden op over vandet.\n",
      "Transl: Far out in the sea, the water is as blue as the leaves of the most beautiful grain flower and as clearly as the cleanest glass, but it is very deep, deeper than something anchor rope when many church towers had to be placed on top of each other, to reach from the bottom up over the water.\n",
      "-----\n",
      "Original: Dernede bor havfolkene.\n",
      "Transl: Then the sea people live.\n",
      "-----\n",
      "Original: Nu må man slet ikke tro, at der kun er den nøgne hvide sandbund; nej, der vokser de forunderligste træer og planter, som er så smidige i stilk og blade, at de ved den mindste bevægelse af vandet rører sig, ligesom om de var levende.\n",
      "Transl: Now one must not believe that there is only the naked white sandy bottom;No, there are the most marvelous trees and plants that are so supple in stalks and leaves that they are moving at the slightest movement of the water, just as if they were alive.\n",
      "-----\n",
      "Original: Alle fiskene, små og store, smutter imellem grenene, ligesom heroppe fuglene i luften.\n",
      "Transl: All the fish, small and large, slip between the branches, just like up the birds in the air.\n",
      "-----\n",
      "Original: På det allerdybeste sted ligger havkongens slot, murene er af koraller og de lange spidse vinduer af det allerklareste rav, men taget er muslingeskaller, der åbner og lukker sig, eftersom vandet går; det ser dejligt ud; thi i hver ligger strålende perler, én eneste ville være stor stads i en dronnings krone.\n",
      "Transl: In the very deepest place lies the sea king's castle, the walls are of corals and the long pointed windows of the clearest amber, but the roof are seashells that open and close as the water goes;It looks nice;for in each lies brilliant pearls, one would be a large city in a queen of crown.\n",
      "-----\n",
      "Original: Havkongen dernede havde i mange år været enkemand, men hans gamle moder holdt hus for ham, hun var en klog kone, men stolt af sin adel, derfor gik hun med tolv østers på halen, de andre fornemme måtte kun bære seks.\n",
      "Transl: The king of the sea down there had been a widow for many years, but his old mother held a house for him, she was a wise wife, but proud of her nobility, so she went with twelve oysters on the tail, the other noble had to bear only six.\n",
      "-----\n",
      "Original: Ellers fortjente hun megen ros, især fordi hun holdt så meget af de små havprinsesser, hendes sønnedøtre.\n",
      "Transl: Otherwise, she deserved a lot of praise, especially because she loved so much of the little sea princesses, her son -in -law.\n",
      "-----\n",
      "Original: De var 6 dejlige børn, men den yngste var den smukkeste af dem alle sammen, hendes hud var så klar og skær som et rosenblad, hendes øjne så blå, som den dybeste sø, men ligesom alle de andre havde hun ingen fødder, kroppen endte i en fiskehale.\n",
      "Transl: They were 6 lovely children, but the youngest was the most beautiful of them all, her skin was as clear and cut as a rose blade, her eyes as blue as the deepest lake, but like all the others she had no feet, her body ended up in a fishing tail.\n",
      "-----\n",
      "Original: Hele den lange dag kunne de lege nede i slottet, i de store sale, hvor levende blomster voksede ud af væggene.\n",
      "Transl: Throughout the long day they could play down in the castle, in the large halls where living flowers grew out of the walls.\n",
      "-----\n",
      "Original: De store ravvinduer blev lukket op, og så svømmede fiskene ind til dem, ligesom hos os svalerne flyver ind, når vi lukker op, men fiskene svømmede lige hen til de små prinsesser, spiste af deres hånd og lod sig klappe.\n",
      "Transl: The large amber windows were opened up, and then the fish swam in them, just as with us the swallows fly in as we open, but the fish swam straight to the little princesses, ate their hand and let themselves clap.\n",
      "-----\n"
     ]
    }
   ],
   "source": [
    "# load the annotated dataset\n",
    "ds = load_dataset(\"chcaa/fiction4sentiment\")\n",
    "df = pd.DataFrame(ds['train'])\n",
    "df.head()\n",
    "\n",
    "# TRY OUT GOOGLE TRANSLATE\n",
    "from googletrans import Translator\n",
    "\n",
    "# get danish sentences\n",
    "df_dk = df[df['org_lang'] == 'dk']\n",
    "\n",
    "# get the first 10 rows\n",
    "df_dk = df_dk.head(10)\n",
    "\n",
    "# make a translator object\n",
    "translator = Translator()\n",
    "# translate the text\n",
    "\n",
    "for text in df_dk['text']:\n",
    "    # translate the text\n",
    "    translated = translator.translate(text, src='da', dest='en')\n",
    "    # print the translated text\n",
    "    print(f\"Original: {text}\")\n",
    "    print(f\"Transl: {translated.text}\")\n",
    "    print(\"-----\")\n"
   ]
  },
  {
   "cell_type": "code",
   "execution_count": 38,
   "id": "94346e7a",
   "metadata": {},
   "outputs": [],
   "source": [
    "import numpy as np\n",
    "\n",
    "\n",
    "def scale_converted_scores(score):\n",
    "    \"\"\"\n",
    "    Uses tanh to compress extreme confidence and center the scale more evenly.\n",
    "    \"\"\"\n",
    "    return np.round(np.tanh(1 * score),2)"
   ]
  },
  {
   "cell_type": "code",
   "execution_count": 40,
   "id": "4da6be91",
   "metadata": {},
   "outputs": [
    {
     "name": "stdout",
     "output_type": "stream",
     "text": [
      "tanh(0.6) = 0.54\n",
      "tanh(-0.6) = -0.54\n",
      "-----\n",
      "tanh(0.65) = 0.57\n",
      "tanh(-0.65) = -0.57\n",
      "-----\n",
      "tanh(0.7) = 0.6\n",
      "tanh(-0.7) = -0.6\n",
      "-----\n",
      "tanh(0.75) = 0.64\n",
      "tanh(-0.75) = -0.64\n",
      "-----\n",
      "tanh(0.8) = 0.66\n",
      "tanh(-0.8) = -0.66\n",
      "-----\n",
      "tanh(0.85) = 0.69\n",
      "tanh(-0.85) = -0.69\n",
      "-----\n",
      "tanh(0.9) = 0.72\n",
      "tanh(-0.9) = -0.72\n",
      "-----\n",
      "tanh(0.95) = 0.74\n",
      "tanh(-0.95) = -0.74\n",
      "-----\n",
      "tanh(1.0) = 0.76\n",
      "tanh(-1.0) = -0.76\n",
      "-----\n"
     ]
    }
   ],
   "source": [
    "test = [\n",
    "    0.6,\n",
    "    0.65,\n",
    "    0.7,\n",
    "    0.75,\n",
    "    0.8,\n",
    "    0.85,\n",
    "    0.9,\n",
    "    0.95,\n",
    "    1.0\n",
    "]\n",
    "\n",
    "for t in test:\n",
    "    print(f\"tanh({t}) = {scale_converted_scores(t)}\")\n",
    "    print(f\"tanh({-t}) = {scale_converted_scores(-t)}\")\n",
    "    print(\"-----\")"
   ]
  },
  {
   "cell_type": "code",
   "execution_count": null,
   "id": "a8804850",
   "metadata": {},
   "outputs": [],
   "source": []
  }
 ],
 "metadata": {
  "kernelspec": {
   "display_name": "myenv",
   "language": "python",
   "name": "python3"
  },
  "language_info": {
   "codemirror_mode": {
    "name": "ipython",
    "version": 3
   },
   "file_extension": ".py",
   "mimetype": "text/x-python",
   "name": "python",
   "nbconvert_exporter": "python",
   "pygments_lexer": "ipython3",
   "version": "3.9.6"
  }
 },
 "nbformat": 4,
 "nbformat_minor": 5
}
